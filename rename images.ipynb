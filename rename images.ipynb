{
 "cells": [
  {
   "cell_type": "markdown",
   "id": "9d56b4a4",
   "metadata": {},
   "source": [
    "#### Rename all the images and merging the original train and val folders"
   ]
  },
  {
   "cell_type": "code",
   "execution_count": null,
   "id": "45257dc2",
   "metadata": {},
   "outputs": [],
   "source": [
    "import os\n",
    "import pandas as pd\n",
    "from PIL import Image\n",
    "from skimage.io import imread, imsave"
   ]
  },
  {
   "cell_type": "code",
   "execution_count": 19,
   "id": "229c007d",
   "metadata": {},
   "outputs": [
    {
     "name": "stderr",
     "output_type": "stream",
     "text": [
      "/tmp/ipykernel_14576/4053976407.py:14: UserWarning: all_data/i/i_57.png is a low contrast image\n",
      "  imsave(img_new_path, img)\n",
      "/tmp/ipykernel_14576/4053976407.py:14: UserWarning: all_data/i/i_63.png is a low contrast image\n",
      "  imsave(img_new_path, img)\n",
      "/tmp/ipykernel_14576/4053976407.py:14: UserWarning: all_data/i/i_79.png is a low contrast image\n",
      "  imsave(img_new_path, img)\n",
      "/tmp/ipykernel_14576/4053976407.py:14: UserWarning: all_data/i/i_106.png is a low contrast image\n",
      "  imsave(img_new_path, img)\n",
      "/tmp/ipykernel_14576/4053976407.py:14: UserWarning: all_data/i/i_110.png is a low contrast image\n",
      "  imsave(img_new_path, img)\n",
      "/tmp/ipykernel_14576/4053976407.py:14: UserWarning: all_data/i/i_127.png is a low contrast image\n",
      "  imsave(img_new_path, img)\n",
      "/tmp/ipykernel_14576/4053976407.py:14: UserWarning: all_data/i/i_174.png is a low contrast image\n",
      "  imsave(img_new_path, img)\n",
      "/tmp/ipykernel_14576/4053976407.py:14: UserWarning: all_data/i/i_180.png is a low contrast image\n",
      "  imsave(img_new_path, img)\n",
      "/tmp/ipykernel_14576/4053976407.py:14: UserWarning: all_data/i/i_210.png is a low contrast image\n",
      "  imsave(img_new_path, img)\n",
      "/tmp/ipykernel_14576/4053976407.py:14: UserWarning: all_data/i/i_245.png is a low contrast image\n",
      "  imsave(img_new_path, img)\n",
      "/tmp/ipykernel_14576/4053976407.py:14: UserWarning: all_data/i/i_250.png is a low contrast image\n",
      "  imsave(img_new_path, img)\n",
      "/tmp/ipykernel_14576/4053976407.py:14: UserWarning: all_data/i/i_254.png is a low contrast image\n",
      "  imsave(img_new_path, img)\n",
      "/tmp/ipykernel_14576/4053976407.py:14: UserWarning: all_data/iii/iii_43.png is a low contrast image\n",
      "  imsave(img_new_path, img)\n",
      "/tmp/ipykernel_14576/4053976407.py:14: UserWarning: all_data/iii/iii_122.png is a low contrast image\n",
      "  imsave(img_new_path, img)\n",
      "/tmp/ipykernel_14576/4053976407.py:14: UserWarning: all_data/iii/iii_135.png is a low contrast image\n",
      "  imsave(img_new_path, img)\n",
      "/tmp/ipykernel_14576/4053976407.py:14: UserWarning: all_data/iii/iii_177.png is a low contrast image\n",
      "  imsave(img_new_path, img)\n",
      "/tmp/ipykernel_14576/4053976407.py:14: UserWarning: all_data/ix/ix_155.png is a low contrast image\n",
      "  imsave(img_new_path, img)\n",
      "/tmp/ipykernel_14576/4053976407.py:14: UserWarning: all_data/vi/vi_156.png is a low contrast image\n",
      "  imsave(img_new_path, img)\n"
     ]
    }
   ],
   "source": [
    "folders = ['i', 'ii', 'iii', 'iv', 'ix', 'v', 'vi', 'vii', 'viii', 'x']\n",
    "orig_path_1 = 'original_data/train'\n",
    "orig_path_2 = 'original_data/val'\n",
    "new_path = 'all_data'\n",
    "mapping_img = []\n",
    "for f in folders:\n",
    "    counter = 0\n",
    "    for orig_path in [orig_path_1, orig_path_2]:\n",
    "        for img_name in os.listdir(f\"{orig_path}/{f}\"):\n",
    "            if img_name != \".DS_Store\":\n",
    "                imge_old_path = f\"{orig_path}/{f}/{img_name}\"\n",
    "                img_new_path = f\"{new_path}/{f}/{f}_{counter}.png\"\n",
    "                img = imread(imge_old_path)\n",
    "                imsave(img_new_path, img)\n",
    "                mapping_img.append((f, img_name, f\"{f}_{counter}.png\"))\n",
    "                counter += 1"
   ]
  },
  {
   "cell_type": "code",
   "execution_count": 8,
   "id": "97453003",
   "metadata": {},
   "outputs": [],
   "source": [
    "mapping_df = pd.DataFrame(mapping_img, columns=['folder', 'original_name', 'new_name'])"
   ]
  },
  {
   "cell_type": "code",
   "execution_count": 9,
   "id": "a973592e",
   "metadata": {},
   "outputs": [
    {
     "data": {
      "text/html": [
       "<div>\n",
       "<style scoped>\n",
       "    .dataframe tbody tr th:only-of-type {\n",
       "        vertical-align: middle;\n",
       "    }\n",
       "\n",
       "    .dataframe tbody tr th {\n",
       "        vertical-align: top;\n",
       "    }\n",
       "\n",
       "    .dataframe thead th {\n",
       "        text-align: right;\n",
       "    }\n",
       "</style>\n",
       "<table border=\"1\" class=\"dataframe\">\n",
       "  <thead>\n",
       "    <tr style=\"text-align: right;\">\n",
       "      <th></th>\n",
       "      <th>folder</th>\n",
       "      <th>original_name</th>\n",
       "      <th>new_name</th>\n",
       "    </tr>\n",
       "  </thead>\n",
       "  <tbody>\n",
       "    <tr>\n",
       "      <th>0</th>\n",
       "      <td>i</td>\n",
       "      <td>abb8e704-ce5d-11eb-b317-38f9d35ea60f.png</td>\n",
       "      <td>i_0.png</td>\n",
       "    </tr>\n",
       "    <tr>\n",
       "      <th>1</th>\n",
       "      <td>i</td>\n",
       "      <td>abc34dde-ce5d-11eb-b317-38f9d35ea60f.png</td>\n",
       "      <td>i_1.png</td>\n",
       "    </tr>\n",
       "    <tr>\n",
       "      <th>2</th>\n",
       "      <td>i</td>\n",
       "      <td>abc8040a-ce5d-11eb-b317-38f9d35ea60f.png</td>\n",
       "      <td>i_2.png</td>\n",
       "    </tr>\n",
       "    <tr>\n",
       "      <th>3</th>\n",
       "      <td>i</td>\n",
       "      <td>abeabdc4-ce5d-11eb-b317-38f9d35ea60f.png</td>\n",
       "      <td>i_3.png</td>\n",
       "    </tr>\n",
       "    <tr>\n",
       "      <th>4</th>\n",
       "      <td>i</td>\n",
       "      <td>ac629fec-ce5d-11eb-b317-38f9d35ea60f.png</td>\n",
       "      <td>i_4.png</td>\n",
       "    </tr>\n",
       "    <tr>\n",
       "      <th>...</th>\n",
       "      <td>...</td>\n",
       "      <td>...</td>\n",
       "      <td>...</td>\n",
       "    </tr>\n",
       "    <tr>\n",
       "      <th>2072</th>\n",
       "      <td>x</td>\n",
       "      <td>affad110-ce5d-11eb-b317-38f9d35ea60f.png</td>\n",
       "      <td>x_175.png</td>\n",
       "    </tr>\n",
       "    <tr>\n",
       "      <th>2073</th>\n",
       "      <td>x</td>\n",
       "      <td>afadc136-ce5d-11eb-b317-38f9d35ea60f.png</td>\n",
       "      <td>x_176.png</td>\n",
       "    </tr>\n",
       "    <tr>\n",
       "      <th>2074</th>\n",
       "      <td>x</td>\n",
       "      <td>afe23844-ce5d-11eb-b317-38f9d35ea60f.png</td>\n",
       "      <td>x_177.png</td>\n",
       "    </tr>\n",
       "    <tr>\n",
       "      <th>2075</th>\n",
       "      <td>x</td>\n",
       "      <td>afcd7922-ce5d-11eb-b317-38f9d35ea60f.png</td>\n",
       "      <td>x_178.png</td>\n",
       "    </tr>\n",
       "    <tr>\n",
       "      <th>2076</th>\n",
       "      <td>x</td>\n",
       "      <td>b2ef9e46-ce5d-11eb-b317-38f9d35ea60f.png</td>\n",
       "      <td>x_179.png</td>\n",
       "    </tr>\n",
       "  </tbody>\n",
       "</table>\n",
       "<p>2077 rows × 3 columns</p>\n",
       "</div>"
      ],
      "text/plain": [
       "     folder                             original_name   new_name\n",
       "0         i  abb8e704-ce5d-11eb-b317-38f9d35ea60f.png    i_0.png\n",
       "1         i  abc34dde-ce5d-11eb-b317-38f9d35ea60f.png    i_1.png\n",
       "2         i  abc8040a-ce5d-11eb-b317-38f9d35ea60f.png    i_2.png\n",
       "3         i  abeabdc4-ce5d-11eb-b317-38f9d35ea60f.png    i_3.png\n",
       "4         i  ac629fec-ce5d-11eb-b317-38f9d35ea60f.png    i_4.png\n",
       "...     ...                                       ...        ...\n",
       "2072      x  affad110-ce5d-11eb-b317-38f9d35ea60f.png  x_175.png\n",
       "2073      x  afadc136-ce5d-11eb-b317-38f9d35ea60f.png  x_176.png\n",
       "2074      x  afe23844-ce5d-11eb-b317-38f9d35ea60f.png  x_177.png\n",
       "2075      x  afcd7922-ce5d-11eb-b317-38f9d35ea60f.png  x_178.png\n",
       "2076      x  b2ef9e46-ce5d-11eb-b317-38f9d35ea60f.png  x_179.png\n",
       "\n",
       "[2077 rows x 3 columns]"
      ]
     },
     "execution_count": 9,
     "metadata": {},
     "output_type": "execute_result"
    }
   ],
   "source": [
    "mapping_df"
   ]
  },
  {
   "cell_type": "code",
   "execution_count": 11,
   "id": "bdec2ba6",
   "metadata": {},
   "outputs": [],
   "source": [
    "mapping_df.to_csv('mapping_images_name.csv', index=False)"
   ]
  }
 ],
 "metadata": {
  "kernelspec": {
   "display_name": "Python 3 (ipykernel)",
   "language": "python",
   "name": "python3"
  },
  "language_info": {
   "codemirror_mode": {
    "name": "ipython",
    "version": 3
   },
   "file_extension": ".py",
   "mimetype": "text/x-python",
   "name": "python",
   "nbconvert_exporter": "python",
   "pygments_lexer": "ipython3",
   "version": "3.9.12"
  }
 },
 "nbformat": 4,
 "nbformat_minor": 5
}
